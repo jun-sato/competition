{
 "cells": [
  {
   "cell_type": "code",
   "execution_count": 1,
   "metadata": {},
   "outputs": [],
   "source": [
    "import pandas as pd\n",
    "import numpy as np\n",
    "import matplotlib.pyplot as plt\n",
    "%matplotlib inline"
   ]
  },
  {
   "cell_type": "code",
   "execution_count": 4,
   "metadata": {},
   "outputs": [
    {
     "name": "stdout",
     "output_type": "stream",
     "text": [
      "-1 location3\n"
     ]
    }
   ],
   "source": [
    "import xml.etree.ElementTree as ET\n",
    "import os\n",
    "row = []\n",
    "folder = []\n",
    "filename = []\n",
    "for j in ['location1','location2','location3','location4','location5','location6','location7']:\n",
    "    filelist = os.listdir('train/'+j+'/labels')\n",
    "    for t in filelist:\n",
    "        #print(t.find('.xml'))\n",
    "        if t.find('.xml') == -1:\n",
    "            print(t.find('.xml'),j)\n",
    "            continue\n",
    "        tree = ET.parse('train/'+j+'/labels/'+t)\n",
    "        root = tree.getroot()\n",
    "        for child in root:\n",
    "            #print(child.tag, child.text)\n",
    "            if child.tag == 'folder':\n",
    "                folder  = child.text\n",
    "            elif child.tag == 'filename':\n",
    "                filename = child.text\n",
    "            elif child.tag == 'size':\n",
    "                for i in child:\n",
    "                    #print(i.tag,i.text)\n",
    "                    if i.tag == 'width':\n",
    "                        width = i.text\n",
    "                    elif i.tag == 'height':\n",
    "                        height = i.text\n",
    "            elif child.tag == 'object':\n",
    "                for s in child:\n",
    "                    if s.tag == 'name':\n",
    "                        name = s.text\n",
    "                        continue\n",
    "                    elif s.tag == 'bndbox':\n",
    "                        #print(i.tag,i.text)\n",
    "                        for k in s:\n",
    "                            if k.tag == 'xmin':\n",
    "                                xmin = k.text\n",
    "                            elif k.tag == 'ymin':\n",
    "                                ymin = k.text\n",
    "                            elif k.tag == 'xmax':\n",
    "                                xmax = k.text\n",
    "                            elif k.tag == 'ymax':\n",
    "                                ymax = k.text\n",
    "                    else:\n",
    "                        continue\n",
    "                    row.append(['train/'+folder+'/images/'+filename,xmin,ymin,xmax,ymax,name])"
   ]
  },
  {
   "cell_type": "code",
   "execution_count": 5,
   "metadata": {},
   "outputs": [],
   "source": [
    "label_data = pd.DataFrame(row,columns = ['filename','xmin','ymin','xmax','ymax','name'])"
   ]
  },
  {
   "cell_type": "code",
   "execution_count": 6,
   "metadata": {},
   "outputs": [],
   "source": [
    "label_data.to_csv('label2.csv',index = False,header = None)"
   ]
  },
  {
   "cell_type": "code",
   "execution_count": 25,
   "metadata": {},
   "outputs": [
    {
     "data": {
      "text/html": [
       "<div>\n",
       "<style scoped>\n",
       "    .dataframe tbody tr th:only-of-type {\n",
       "        vertical-align: middle;\n",
       "    }\n",
       "\n",
       "    .dataframe tbody tr th {\n",
       "        vertical-align: top;\n",
       "    }\n",
       "\n",
       "    .dataframe thead th {\n",
       "        text-align: right;\n",
       "    }\n",
       "</style>\n",
       "<table border=\"1\" class=\"dataframe\">\n",
       "  <thead>\n",
       "    <tr style=\"text-align: right;\">\n",
       "      <th></th>\n",
       "      <th>folder</th>\n",
       "      <th>filename</th>\n",
       "      <th>width</th>\n",
       "      <th>height</th>\n",
       "      <th>name</th>\n",
       "      <th>xmin</th>\n",
       "      <th>ymin</th>\n",
       "      <th>xmax</th>\n",
       "      <th>ymax</th>\n",
       "    </tr>\n",
       "  </thead>\n",
       "  <tbody>\n",
       "    <tr>\n",
       "      <th>4234</th>\n",
       "      <td>location3</td>\n",
       "      <td>location3_00012222.jpg</td>\n",
       "      <td>600</td>\n",
       "      <td>600</td>\n",
       "      <td>8</td>\n",
       "      <td>406</td>\n",
       "      <td>406</td>\n",
       "      <td>600</td>\n",
       "      <td>599</td>\n",
       "    </tr>\n",
       "    <tr>\n",
       "      <th>4235</th>\n",
       "      <td>location3</td>\n",
       "      <td>location3_00012222.jpg</td>\n",
       "      <td>600</td>\n",
       "      <td>600</td>\n",
       "      <td>1</td>\n",
       "      <td>420</td>\n",
       "      <td>347</td>\n",
       "      <td>486</td>\n",
       "      <td>404</td>\n",
       "    </tr>\n",
       "    <tr>\n",
       "      <th>4236</th>\n",
       "      <td>location3</td>\n",
       "      <td>location3_00012222.jpg</td>\n",
       "      <td>600</td>\n",
       "      <td>600</td>\n",
       "      <td>3</td>\n",
       "      <td>310</td>\n",
       "      <td>401</td>\n",
       "      <td>564</td>\n",
       "      <td>453</td>\n",
       "    </tr>\n",
       "    <tr>\n",
       "      <th>4237</th>\n",
       "      <td>location3</td>\n",
       "      <td>location3_00012222.jpg</td>\n",
       "      <td>600</td>\n",
       "      <td>600</td>\n",
       "      <td>8</td>\n",
       "      <td>1</td>\n",
       "      <td>347</td>\n",
       "      <td>239</td>\n",
       "      <td>584</td>\n",
       "    </tr>\n",
       "    <tr>\n",
       "      <th>4238</th>\n",
       "      <td>location3</td>\n",
       "      <td>location3_00012222.jpg</td>\n",
       "      <td>600</td>\n",
       "      <td>600</td>\n",
       "      <td>1</td>\n",
       "      <td>238</td>\n",
       "      <td>429</td>\n",
       "      <td>287</td>\n",
       "      <td>516</td>\n",
       "    </tr>\n",
       "    <tr>\n",
       "      <th>4239</th>\n",
       "      <td>location3</td>\n",
       "      <td>location3_00012222.jpg</td>\n",
       "      <td>600</td>\n",
       "      <td>600</td>\n",
       "      <td>1</td>\n",
       "      <td>342</td>\n",
       "      <td>460</td>\n",
       "      <td>412</td>\n",
       "      <td>596</td>\n",
       "    </tr>\n",
       "  </tbody>\n",
       "</table>\n",
       "</div>"
      ],
      "text/plain": [
       "         folder                filename width height name xmin ymin xmax ymax\n",
       "4234  location3  location3_00012222.jpg   600    600    8  406  406  600  599\n",
       "4235  location3  location3_00012222.jpg   600    600    1  420  347  486  404\n",
       "4236  location3  location3_00012222.jpg   600    600    3  310  401  564  453\n",
       "4237  location3  location3_00012222.jpg   600    600    8    1  347  239  584\n",
       "4238  location3  location3_00012222.jpg   600    600    1  238  429  287  516\n",
       "4239  location3  location3_00012222.jpg   600    600    1  342  460  412  596"
      ]
     },
     "execution_count": 25,
     "metadata": {},
     "output_type": "execute_result"
    }
   ],
   "source": [
    "label_data[label_data['filename'] =='location3_00012222.jpg' ]"
   ]
  },
  {
   "cell_type": "code",
   "execution_count": 50,
   "metadata": {},
   "outputs": [
    {
     "data": {
      "text/plain": [
       "name\n",
       "1    1966\n",
       "2    2765\n",
       "3     540\n",
       "4     452\n",
       "5    1839\n",
       "6     299\n",
       "7     591\n",
       "8    2629\n",
       "dtype: int64"
      ]
     },
     "execution_count": 50,
     "metadata": {},
     "output_type": "execute_result"
    }
   ],
   "source": [
    "label_data.groupby('name').size()"
   ]
  },
  {
   "cell_type": "code",
   "execution_count": 51,
   "metadata": {},
   "outputs": [],
   "source": [
    "pd.DataFrame(['a','b','c','d','e','f','g','h'],np.arange(8)+1).to_csv('classid.csv')"
   ]
  }
 ],
 "metadata": {
  "kernelspec": {
   "display_name": "Python 3",
   "language": "python",
   "name": "python3"
  },
  "language_info": {
   "codemirror_mode": {
    "name": "ipython",
    "version": 3
   },
   "file_extension": ".py",
   "mimetype": "text/x-python",
   "name": "python",
   "nbconvert_exporter": "python",
   "pygments_lexer": "ipython3",
   "version": "3.6.6"
  }
 },
 "nbformat": 4,
 "nbformat_minor": 2
}
