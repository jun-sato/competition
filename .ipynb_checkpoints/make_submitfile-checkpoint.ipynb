{
 "cells": [
  {
   "cell_type": "code",
   "execution_count": 116,
   "metadata": {},
   "outputs": [],
   "source": [
    "from keras.models import load_model\n",
    "import numpy as np\n",
    "import pandas as pd\n",
    "from keras_retinanet import models\n",
    "from keras_retinanet.utils.image import read_image_bgr, preprocess_image, resize_image\n",
    "from keras_retinanet.utils.visualization import draw_box, draw_caption\n",
    "from keras_retinanet.utils.colors import label_color\n",
    "\n",
    "# import miscellaneous modules\n",
    "import matplotlib.pyplot as plt\n",
    "import cv2\n",
    "import os\n",
    "import numpy as np\n",
    "from tqdm import tqdm_notebook\n",
    "import time\n",
    "labels_to_names = { 1: '1', 2: '2', 3: '3', 4: '4', 5: '5', 6: '6', 7: '7', 8: '8', 9: '9'} "
   ]
  },
  {
   "cell_type": "code",
   "execution_count": 172,
   "metadata": {},
   "outputs": [
    {
     "name": "stderr",
     "output_type": "stream",
     "text": [
      "/home/elsa/anaconda3/envs/Tensorflow/lib/python3.6/site-packages/keras/engine/saving.py:292: UserWarning: No training configuration found in save file: the model was *not* compiled. Compile it manually.\n",
      "  warnings.warn('No training configuration found in save file: '\n"
     ]
    }
   ],
   "source": [
    "model = models.load_model('keras-retinanet/50model.h5', backbone_name='resnet50')"
   ]
  },
  {
   "cell_type": "code",
   "execution_count": 173,
   "metadata": {},
   "outputs": [
    {
     "data": {
      "application/vnd.jupyter.widget-view+json": {
       "model_id": "8fe50476a1e543639e8a8289dfe5579c",
       "version_major": 2,
       "version_minor": 0
      },
      "text/plain": [
       "HBox(children=(IntProgress(value=0, max=1628), HTML(value='')))"
      ]
     },
     "metadata": {},
     "output_type": "display_data"
    }
   ],
   "source": [
    "filename = []\n",
    "lab = []\n",
    "xmin = []\n",
    "ymin = []\n",
    "xmax = []\n",
    "ymax = []\n",
    "for i in tqdm_notebook(os.listdir('test/')):\n",
    "    image = read_image_bgr('test/'+i)\n",
    "\n",
    "\n",
    "    # copy to draw on\n",
    "    draw = image.copy()\n",
    "    draw = cv2.cvtColor(draw, cv2.COLOR_BGR2RGB)\n",
    "\n",
    "    # preprocess image for network\n",
    "    image = preprocess_image(image)\n",
    "    image, scale = resize_image(image)\n",
    "\n",
    "    # process image\n",
    "    start = time.time()\n",
    "    boxes, scores, labels = model.predict_on_batch(np.expand_dims(image, axis=0))\n",
    "\n",
    "    # correct for image scale\n",
    "    boxes /= scale\n",
    "\n",
    "    # visualize detections\n",
    "    for box, score, label in zip(boxes[0], scores[0], labels[0]):\n",
    "        # scores are sorted so we can break\n",
    "        if score < 0.5:\n",
    "            break\n",
    "\n",
    "        color = label_color(label)\n",
    "\n",
    "        b = box.astype(int)\n",
    "        draw_box(draw, b, color=color)\n",
    "\n",
    "        caption = \"{} {:.3f}\".format(labels_to_names[label], score)\n",
    "        draw_caption(draw, b, caption)\n",
    "        #print(b,label)\n",
    "        filename.append(i)\n",
    "        lab.append(label)\n",
    "        xmin.append(b[0])\n",
    "        ymin.append(b[1])\n",
    "        xmax.append(b[2])\n",
    "        ymax.append(b[3])\n",
    "   "
   ]
  },
  {
   "cell_type": "code",
   "execution_count": 133,
   "metadata": {},
   "outputs": [
    {
     "ename": "AxisError",
     "evalue": "axis 1 is out of bounds for array of dimension 1",
     "output_type": "error",
     "traceback": [
      "\u001b[0;31m---------------------------------------------------------------------------\u001b[0m",
      "\u001b[0;31mAxisError\u001b[0m                                 Traceback (most recent call last)",
      "\u001b[0;32m<ipython-input-133-008b7b73a198>\u001b[0m in \u001b[0;36m<module>\u001b[0;34m\u001b[0m\n\u001b[1;32m      1\u001b[0m np.concatenate([np.array(filename),np.array(lab),np.array(xmin),\n\u001b[0;32m----> 2\u001b[0;31m                              np.array(ymin),np.array(xmax),np.array(ymax)],axis = 1)\n\u001b[0m",
      "\u001b[0;31mAxisError\u001b[0m: axis 1 is out of bounds for array of dimension 1"
     ]
    }
   ],
   "source": [
    "np.concatenate([np.array(filename),np.array(lab),np.array(xmin),\n",
    "                             np.array(ymin),np.array(xmax),np.array(ymax)],axis = 1)"
   ]
  },
  {
   "cell_type": "code",
   "execution_count": 179,
   "metadata": {},
   "outputs": [],
   "source": [
    "counter = 0\n",
    "with open('result.txt', mode='a') as f:\n",
    "            f.write('<annotations>\\n')\n",
    "while counter<2375:\n",
    "    i = filename[counter]\n",
    "    obj = sum(np.array(filename)==i)\n",
    "    title = '<annotation>\\n    <filename>{}</filename>'.format(i)\n",
    "    with open('result.txt', mode='a') as f:\n",
    "        f.write(title)\n",
    "    for k in range(obj):\n",
    "        box='\\n    <object>\\n        <name>{}</name>\\n        <bndbox>\\n            <xmin>{}</xmin>\\n            <ymin>{}</ymin>\\n            <xmax>{}</xmax>\\n            <ymax>{}</ymax>\\n        </bndbox>\\n    </object>\\n'.format(lab[counter+k],xmin[counter+k],ymin[counter+k],xmax[counter+k],ymax[counter+k])\n",
    "        with open('result.txt', mode='a') as f:\n",
    "            f.write(box)\n",
    "\n",
    "    with open('result.txt', mode='a') as f:\n",
    "            f.write('</annotation>\\n')\n",
    "    counter += obj\n",
    "with open('result.txt', mode='a') as f:\n",
    "            f.write('</annotations>\\n')"
   ]
  },
  {
   "cell_type": "code",
   "execution_count": 178,
   "metadata": {},
   "outputs": [
    {
     "data": {
      "text/plain": [
       "2375"
      ]
     },
     "execution_count": 178,
     "metadata": {},
     "output_type": "execute_result"
    }
   ],
   "source": [
    "len(filename)"
   ]
  },
  {
   "cell_type": "code",
   "execution_count": null,
   "metadata": {},
   "outputs": [],
   "source": []
  }
 ],
 "metadata": {
  "kernelspec": {
   "display_name": "Python [conda env:Tensorflow]",
   "language": "python",
   "name": "conda-env-Tensorflow-py"
  },
  "language_info": {
   "codemirror_mode": {
    "name": "ipython",
    "version": 3
   },
   "file_extension": ".py",
   "mimetype": "text/x-python",
   "name": "python",
   "nbconvert_exporter": "python",
   "pygments_lexer": "ipython3",
   "version": "3.7.1"
  }
 },
 "nbformat": 4,
 "nbformat_minor": 2
}
